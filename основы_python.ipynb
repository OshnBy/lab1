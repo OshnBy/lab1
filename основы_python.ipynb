{
  "cells": [
    {
      "cell_type": "markdown",
      "metadata": {
        "id": "M-DGa20PaHnu"
      },
      "source": [
        "#Задача 1\n",
        "Написать функцию на вход которой подается строка, состоящая из латинских букв.\n",
        "Функция должна вернуть количество гласных букв (a, e, i, o, u) в этой строке. Написать тесты для кода"
      ]
    },
    {
      "cell_type": "code",
      "execution_count": null,
      "metadata": {
        "id": "XvX8X_JJ6PCb"
      },
      "outputs": [],
      "source": [
        "def count_vowels(s):\n",
        "    vowels = 'aeiou'\n",
        "    return sum(1 for char in s.lower() if char in vowels)\n",
        "\n",
        "# Тесты\n",
        "assert count_vowels(\"Hello\") == 2, \"Должно быть 2 гласные\"\n",
        "assert count_vowels(\"HELLO\") == 2, \"Должно быть 2 гласные (проверка нечувствительности к регистру)\"\n",
        "assert count_vowels(\"abcdefghijklmnopqrstuvwxyz\") == 5, \"В алфавите 5 гласных\"\n",
        "assert count_vowels(\"bcdfghjklmnpqrstvwxyz\") == 0, \"В этой строке нет гласных\"\n",
        "assert count_vowels(\"\") == 0, \"Пустая строка не содержит гласных\"\n",
        "assert count_vowels(\"AEIOU\") == 5, \"Все гласные (проверка нечувствительности к регистру)\"\n",
        "assert count_vowels(\"Python Programming\") == 4, \"Должно быть 4 гласные\"\n",
        "\n",
        "print(\"Все тесты пройдены успешно!\")\n"
      ]
    },
    {
      "cell_type": "markdown",
      "metadata": {
        "id": "t2ClV_Y0bbr6"
      },
      "source": [
        "# Задача 2\n",
        "Написать функцию на вход, которой подается строка. Функция должна вернуть true, если\n",
        "каждый символ в строке встречается только 1 раз, иначе должна вернуть false. Написать тесты для кода"
      ]
    },
    {
      "cell_type": "code",
      "execution_count": null,
      "metadata": {
        "id": "FppbECao6VIz"
      },
      "outputs": [],
      "source": [
        "def is_unique(s):\n",
        "    return len(s) == len(set(s))\n",
        "\n",
        "# Тесты\n",
        "assert is_unique(\"abcdef\") == True, \"Все символы уникальны\"\n",
        "assert is_unique(\"abcdea\") == False, \"Символ 'a' встречается более одного раза\"\n",
        "assert is_unique(\"\") == True, \"Пустая строка по определению содержит только уникальные символы (так как она не содержит вообще никаких символов)\"\n",
        "assert is_unique(\"1234567890\") == True, \"Все цифры уникальны\"\n",
        "assert is_unique(\"aA\") == True, \"Большая и маленькая буквы считаются разными символами\"\n",
        "assert is_unique(\"The quick brown fox\") == False, \"Пробел встречается более одного раза\"\n",
        "assert is_unique(\"Python\") == True, \"Все буквы в слове 'Python' уникальны\"\n",
        "\n",
        "print(\"Все тесты пройдены успешно!\")\n"
      ]
    },
    {
      "cell_type": "markdown",
      "metadata": {
        "id": "udRiIK1cdt6E"
      },
      "source": [
        "# Задача 3\n",
        "Написать функцию, которая принимает положительное число и возвращает количество\n",
        "бит равных 1 в этом числе. Написать тесты для кода"
      ]
    },
    {
      "cell_type": "code",
      "execution_count": null,
      "metadata": {
        "id": "6tkfDJRz6dp_"
      },
      "outputs": [],
      "source": [
        "def count_bits(n):\n",
        "    # Преобразуем число в двоичное представление и отсекаем префикс '0b'\n",
        "    binary_representation = bin(n)[2:]\n",
        "    # Считаем количество '1' в двоичном представлении\n",
        "    return binary_representation.count('1')\n",
        "\n",
        "# Тесты\n",
        "assert count_bits(0) == 0, \"В числе 0 нет единичных битов\"\n",
        "assert count_bits(1) == 1, \"В числе 1 один единичный бит\"\n",
        "assert count_bits(2) == 1, \"В числе 2 один единичный бит (10 в двоичной системе)\"\n",
        "assert count_bits(3) == 2, \"В числе 3 два единичных бита (11 в двоичной системе)\"\n",
        "assert count_bits(4) == 1, \"В числе 4 один единичный бит (100 в двоичной системе)\"\n",
        "assert count_bits(15) == 4, \"В числе 15 четыре единичных бита (1111 в двоичной системе)\"\n",
        "assert count_bits(16) == 1, \"В числе 16 один единичный бит (10000 в двоичной системе)\"\n",
        "assert count_bits(1023) == 10, \"В числе 1023 десять единичных битов (1111111111 в двоичной системе)\"\n",
        "\n",
        "print(\"Все тесты пройдены успешно!\")\n"
      ]
    },
    {
      "cell_type": "markdown",
      "metadata": {
        "id": "26dDUz-Ae17N"
      },
      "source": [
        "# Задача 4\n",
        "Написать функцию, которая принимает положительное число. Функция должна вернуть то,\n",
        "сколько раз необходимо перемножать цифры числа или результат перемножения, чтобы\n",
        "получилось число состоящее из одной цифры.\n",
        "Например, для входного числа:\n",
        "· 39 функция должна вернуть 3, так как 3*9=27 => 2*7=14 => 1*4=4\n",
        "· 4 функция должна вернуть 0, так как число уже состоит из одной цифры\n",
        "· 999 функция должна вернуть 4, так как 9*9*9=729 => 7*2*9=126 => 1*2*6=12 =>\n",
        "1*2=2. Написать тесты для кода"
      ]
    },
    {
      "cell_type": "code",
      "execution_count": null,
      "metadata": {
        "id": "BH1A_Mgi6i4G"
      },
      "outputs": [],
      "source": [
        "def magic(n):\n",
        "    def multiply_digits(num):\n",
        "        result = 1\n",
        "        while num > 0:\n",
        "            result *= num % 10\n",
        "            num //= 10\n",
        "        return result\n",
        "\n",
        "    count = 0\n",
        "    while n >= 10:  # Пока число состоит более чем из одной цифры\n",
        "        n = multiply_digits(n)\n",
        "        count += 1\n",
        "    return count\n",
        "\n",
        "# Тесты\n",
        "assert magic(39) == 3, \"Для числа 39 результат должен быть 3\"\n",
        "assert magic(4) == 0, \"Для числа 4 результат должен быть 0, так как оно уже состоит из одной цифры\"\n",
        "assert magic(999) == 4, \"Для числа 999 результат должен быть 4\"\n",
        "assert magic(77) == 2, \"Для числа 77 результат должен быть 2 (77 => 49 => 36 => 18 => 8)\"\n",
        "assert magic(123456) == 2, \"Для числа 123456 результат должен быть 2\"\n",
        "\n",
        "print(\"Все тесты пройдены успешно!\")\n"
      ]
    },
    {
      "cell_type": "markdown",
      "metadata": {
        "id": "0nS-kIa8g8vd"
      },
      "source": [
        "# Задача 5\n",
        "Написать функцию, которая принимает два целочисленных вектора одинаковой длины и\n",
        "возвращает среднеквадратическое отклонение двух векторов. Написать тесты для кода"
      ]
    },
    {
      "cell_type": "code",
      "execution_count": null,
      "metadata": {
        "id": "8iphx4LM6xbx"
      },
      "outputs": [],
      "source": [
        "def mse(pred, true):\n",
        "    if len(pred) != len(true):\n",
        "        raise ValueError(\"Векторы должны быть одинаковой длины.\")\n",
        "    \n",
        "    sum_of_squares = 0\n",
        "    for p, t in zip(pred, true):\n",
        "        sum_of_squares += (p - t) ** 2\n",
        "    \n",
        "    return sum_of_squares / len(pred)\n",
        "\n",
        "# Тесты\n",
        "assert mse([1, 2, 3], [1, 2, 3]) == 0, \"MSE для идентичных векторов должно быть 0\"\n",
        "assert mse([1, 2, 3], [4, 5, 6]) == 9, \"MSE для данных векторов должно быть 9\"\n",
        "assert mse([1, 1, 1], [2, 2, 2]) == 1, \"MSE для данных векторов должно быть 1\"\n",
        "assert mse([10, 20], [10, 20]) == 0, \"MSE для идентичных векторов должно быть 0\"\n",
        "\n",
        "try:\n",
        "    mse([1, 2], [1, 2, 3])\n",
        "except ValueError as e:\n",
        "    assert str(e) == \"Векторы должны быть одинаковой длины.\", \"Должно возникнуть исключение о разной длине векторов\"\n",
        "\n",
        "print(\"Все тесты пройдены успешно!\")\n"
      ]
    },
    {
      "cell_type": "markdown",
      "metadata": {
        "id": "vpIPKL439zkw"
      },
      "source": [
        "# Задача 6\n",
        "Написать функцию, принимающая целое положительное число. Функция должна вернуть\n",
        "строку вида “(n1**p1)(n2**p2)…(nk**pk)” представляющая разложение числа на простые\n",
        "множители (если pi == 1, то выводить только ni).\n",
        "Например, для числа 86240 функция должна вернуть “(2**5)(5)(7**2)(11)”. Написать тесты для кода"
      ]
    },
    {
      "cell_type": "code",
      "execution_count": null,
      "metadata": {
        "id": "pFebmcZk94Jw"
      },
      "outputs": [],
      "source": [
        "def prime_factors(n):\n",
        "    factors = []\n",
        "    divisor = 2\n",
        "    while n > 1:\n",
        "        if n % divisor == 0:\n",
        "            count = 0\n",
        "            while n % divisor == 0:\n",
        "                n //= divisor\n",
        "                count += 1\n",
        "            factors.append((divisor, count))\n",
        "        divisor += 1\n",
        "    return factors\n",
        "\n",
        "def format_prime_factors(n):\n",
        "    factors = prime_factors(n)\n",
        "    result = \"\"\n",
        "    for factor, count in factors:\n",
        "        if count == 1:\n",
        "            result += f\"({factor})\"\n",
        "        else:\n",
        "            result += f\"({factor}**{count})\"\n",
        "    return result"
      ]
    },
    {
      "cell_type": "markdown",
      "metadata": {
        "id": "ps2s0BudX7A2"
      },
      "source": [
        "# Задача 7\n",
        "Написать функцию, принимающая целое число n, задающее количество кубиков. Функция\n",
        "должна определить, можно ли из данного кол-ва кубиков построить пирамиду, то есть\n",
        "можно ли представить число n как 1^2+2^2+3^2+…+k^2. Если можно, то функция должна\n",
        "вернуть k, иначе строку “It is impossible”. Написать тесты для кода"
      ]
    },
    {
      "cell_type": "code",
      "execution_count": null,
      "metadata": {
        "id": "3YPjEXxhX_YT"
      },
      "outputs": [],
      "source": [
        "def pyramid(number):\n",
        "    total = 0\n",
        "    k = 0\n",
        "    while total < number:\n",
        "        k += 1\n",
        "        total += k ** 2\n",
        "    return k if total == number else \"It is impossible\""
      ]
    },
    {
      "cell_type": "markdown",
      "metadata": {
        "id": "KeKgmIdAQMEJ"
      },
      "source": [
        "# Задача 8\n",
        "Функция принимает на вход положительное число и определяет является ли оно сбалансированным, т.е. сумма цифр до средних равна сумме цифр после. Средними в случае нечетного числа цифр считать одну цифру, в случае четного - две средних. Написать тесты для кода"
      ]
    },
    {
      "cell_type": "code",
      "execution_count": null,
      "metadata": {
        "id": "gMAAqtqlQrZt"
      },
      "outputs": [],
      "source": [
        "def is_balanced(number):\n",
        "    str_number = str(number)\n",
        "    length = len(str_number)\n",
        "    if length % 2 == 0:\n",
        "        first_half = sum(map(int, str_number[:length // 2]))\n",
        "        second_half = sum(map(int, str_number[length // 2:]))\n",
        "    else:\n",
        "        first_half = sum(map(int, str_number[:length // 2]))\n",
        "        second_half = sum(map(int, str_number[length // 2 + 1:]))\n",
        "    return first_half == second_half"
      ]
    }
  ],
  "metadata": {
    "colab": {
      "provenance": []
    },
    "kernelspec": {
      "display_name": "Python 3",
      "name": "python3"
    },
    "language_info": {
      "name": "python"
    }
  },
  "nbformat": 4,
  "nbformat_minor": 0
}
